{
 "cells": [
  {
   "cell_type": "markdown",
   "metadata": {},
   "source": [
    "# Neural Network\n",
    "Neural Networks are one of the most used tools in machine learning. Basically, what we are doing is putting together many perceptrons into layers for a more complex system. Here, I will be using an input layer (64 nodes) -> a hidden layer (5 nodes) -> output layer (10 nodes)"
   ]
  },
  {
   "cell_type": "code",
   "execution_count": 39,
   "metadata": {},
   "outputs": [],
   "source": [
    "import pandas as pd\n",
    "import numpy as np\n",
    "import numpy.linalg as lin\n",
    "import statistics as stat\n",
    "import matplotlib.pyplot as plt\n",
    "from sklearn import datasets"
   ]
  },
  {
   "cell_type": "code",
   "execution_count": 92,
   "metadata": {},
   "outputs": [
    {
     "data": {
      "text/plain": [
       "(1797, 65)"
      ]
     },
     "execution_count": 92,
     "metadata": {},
     "output_type": "execute_result"
    }
   ],
   "source": [
    "digits = datasets.load_digits()\n",
    "x = digits.data\n",
    "\n",
    "# Adding a bias term\n",
    "temp = []\n",
    "for i in range(len(x)):\n",
    "    temp.append(x[i])\n",
    "    temp[i] = np.append(temp[i], 1)\n",
    "\n",
    "x = np.array(temp)\n",
    "x.shape"
   ]
  },
  {
   "cell_type": "code",
   "execution_count": 93,
   "metadata": {},
   "outputs": [
    {
     "data": {
      "text/plain": [
       "array([ 0.,  0.,  5., 13.,  9.,  1.,  0.,  0.,  0.,  0., 13., 15., 10.,\n",
       "       15.,  5.,  0.,  0.,  3., 15.,  2.,  0., 11.,  8.,  0.,  0.,  4.,\n",
       "       12.,  0.,  0.,  8.,  8.,  0.,  0.,  5.,  8.,  0.,  0.,  9.,  8.,\n",
       "        0.,  0.,  4., 11.,  0.,  1., 12.,  7.,  0.,  0.,  2., 14.,  5.,\n",
       "       10., 12.,  0.,  0.,  0.,  0.,  6., 13., 10.,  0.,  0.,  0.,  1.])"
      ]
     },
     "execution_count": 93,
     "metadata": {},
     "output_type": "execute_result"
    }
   ],
   "source": [
    "x[0]"
   ]
  },
  {
   "cell_type": "code",
   "execution_count": 94,
   "metadata": {},
   "outputs": [
    {
     "data": {
      "text/html": [
       "<div>\n",
       "<style scoped>\n",
       "    .dataframe tbody tr th:only-of-type {\n",
       "        vertical-align: middle;\n",
       "    }\n",
       "\n",
       "    .dataframe tbody tr th {\n",
       "        vertical-align: top;\n",
       "    }\n",
       "\n",
       "    .dataframe thead th {\n",
       "        text-align: right;\n",
       "    }\n",
       "</style>\n",
       "<table border=\"1\" class=\"dataframe\">\n",
       "  <thead>\n",
       "    <tr style=\"text-align: right;\">\n",
       "      <th></th>\n",
       "      <th>0</th>\n",
       "      <th>1</th>\n",
       "      <th>2</th>\n",
       "      <th>3</th>\n",
       "      <th>4</th>\n",
       "      <th>5</th>\n",
       "      <th>6</th>\n",
       "      <th>7</th>\n",
       "      <th>8</th>\n",
       "      <th>9</th>\n",
       "      <th>...</th>\n",
       "      <th>55</th>\n",
       "      <th>56</th>\n",
       "      <th>57</th>\n",
       "      <th>58</th>\n",
       "      <th>59</th>\n",
       "      <th>60</th>\n",
       "      <th>61</th>\n",
       "      <th>62</th>\n",
       "      <th>63</th>\n",
       "      <th>64</th>\n",
       "    </tr>\n",
       "  </thead>\n",
       "  <tbody>\n",
       "    <tr>\n",
       "      <th>0</th>\n",
       "      <td>0.0</td>\n",
       "      <td>0.0</td>\n",
       "      <td>5.0</td>\n",
       "      <td>13.0</td>\n",
       "      <td>9.0</td>\n",
       "      <td>1.0</td>\n",
       "      <td>0.0</td>\n",
       "      <td>0.0</td>\n",
       "      <td>0.0</td>\n",
       "      <td>0.0</td>\n",
       "      <td>...</td>\n",
       "      <td>0.0</td>\n",
       "      <td>0.0</td>\n",
       "      <td>0.0</td>\n",
       "      <td>6.0</td>\n",
       "      <td>13.0</td>\n",
       "      <td>10.0</td>\n",
       "      <td>0.0</td>\n",
       "      <td>0.0</td>\n",
       "      <td>0.0</td>\n",
       "      <td>1.0</td>\n",
       "    </tr>\n",
       "    <tr>\n",
       "      <th>1</th>\n",
       "      <td>0.0</td>\n",
       "      <td>0.0</td>\n",
       "      <td>0.0</td>\n",
       "      <td>12.0</td>\n",
       "      <td>13.0</td>\n",
       "      <td>5.0</td>\n",
       "      <td>0.0</td>\n",
       "      <td>0.0</td>\n",
       "      <td>0.0</td>\n",
       "      <td>0.0</td>\n",
       "      <td>...</td>\n",
       "      <td>0.0</td>\n",
       "      <td>0.0</td>\n",
       "      <td>0.0</td>\n",
       "      <td>0.0</td>\n",
       "      <td>11.0</td>\n",
       "      <td>16.0</td>\n",
       "      <td>10.0</td>\n",
       "      <td>0.0</td>\n",
       "      <td>0.0</td>\n",
       "      <td>1.0</td>\n",
       "    </tr>\n",
       "    <tr>\n",
       "      <th>2</th>\n",
       "      <td>0.0</td>\n",
       "      <td>0.0</td>\n",
       "      <td>0.0</td>\n",
       "      <td>4.0</td>\n",
       "      <td>15.0</td>\n",
       "      <td>12.0</td>\n",
       "      <td>0.0</td>\n",
       "      <td>0.0</td>\n",
       "      <td>0.0</td>\n",
       "      <td>0.0</td>\n",
       "      <td>...</td>\n",
       "      <td>0.0</td>\n",
       "      <td>0.0</td>\n",
       "      <td>0.0</td>\n",
       "      <td>0.0</td>\n",
       "      <td>3.0</td>\n",
       "      <td>11.0</td>\n",
       "      <td>16.0</td>\n",
       "      <td>9.0</td>\n",
       "      <td>0.0</td>\n",
       "      <td>1.0</td>\n",
       "    </tr>\n",
       "    <tr>\n",
       "      <th>3</th>\n",
       "      <td>0.0</td>\n",
       "      <td>0.0</td>\n",
       "      <td>7.0</td>\n",
       "      <td>15.0</td>\n",
       "      <td>13.0</td>\n",
       "      <td>1.0</td>\n",
       "      <td>0.0</td>\n",
       "      <td>0.0</td>\n",
       "      <td>0.0</td>\n",
       "      <td>8.0</td>\n",
       "      <td>...</td>\n",
       "      <td>0.0</td>\n",
       "      <td>0.0</td>\n",
       "      <td>0.0</td>\n",
       "      <td>7.0</td>\n",
       "      <td>13.0</td>\n",
       "      <td>13.0</td>\n",
       "      <td>9.0</td>\n",
       "      <td>0.0</td>\n",
       "      <td>0.0</td>\n",
       "      <td>1.0</td>\n",
       "    </tr>\n",
       "    <tr>\n",
       "      <th>4</th>\n",
       "      <td>0.0</td>\n",
       "      <td>0.0</td>\n",
       "      <td>0.0</td>\n",
       "      <td>1.0</td>\n",
       "      <td>11.0</td>\n",
       "      <td>0.0</td>\n",
       "      <td>0.0</td>\n",
       "      <td>0.0</td>\n",
       "      <td>0.0</td>\n",
       "      <td>0.0</td>\n",
       "      <td>...</td>\n",
       "      <td>0.0</td>\n",
       "      <td>0.0</td>\n",
       "      <td>0.0</td>\n",
       "      <td>0.0</td>\n",
       "      <td>2.0</td>\n",
       "      <td>16.0</td>\n",
       "      <td>4.0</td>\n",
       "      <td>0.0</td>\n",
       "      <td>0.0</td>\n",
       "      <td>1.0</td>\n",
       "    </tr>\n",
       "  </tbody>\n",
       "</table>\n",
       "<p>5 rows × 65 columns</p>\n",
       "</div>"
      ],
      "text/plain": [
       "    0    1    2     3     4     5    6    7    8    9   ...   55   56   57  \\\n",
       "0  0.0  0.0  5.0  13.0   9.0   1.0  0.0  0.0  0.0  0.0  ...  0.0  0.0  0.0   \n",
       "1  0.0  0.0  0.0  12.0  13.0   5.0  0.0  0.0  0.0  0.0  ...  0.0  0.0  0.0   \n",
       "2  0.0  0.0  0.0   4.0  15.0  12.0  0.0  0.0  0.0  0.0  ...  0.0  0.0  0.0   \n",
       "3  0.0  0.0  7.0  15.0  13.0   1.0  0.0  0.0  0.0  8.0  ...  0.0  0.0  0.0   \n",
       "4  0.0  0.0  0.0   1.0  11.0   0.0  0.0  0.0  0.0  0.0  ...  0.0  0.0  0.0   \n",
       "\n",
       "    58    59    60    61   62   63   64  \n",
       "0  6.0  13.0  10.0   0.0  0.0  0.0  1.0  \n",
       "1  0.0  11.0  16.0  10.0  0.0  0.0  1.0  \n",
       "2  0.0   3.0  11.0  16.0  9.0  0.0  1.0  \n",
       "3  7.0  13.0  13.0   9.0  0.0  0.0  1.0  \n",
       "4  0.0   2.0  16.0   4.0  0.0  0.0  1.0  \n",
       "\n",
       "[5 rows x 65 columns]"
      ]
     },
     "execution_count": 94,
     "metadata": {},
     "output_type": "execute_result"
    }
   ],
   "source": [
    "# We can see that since each row is an 8x8 picture, it has 64 columns in it\n",
    "# Each row is an image\n",
    "pd.DataFrame(x).head()"
   ]
  },
  {
   "cell_type": "code",
   "execution_count": 54,
   "metadata": {},
   "outputs": [
    {
     "data": {
      "text/plain": [
       "(1797,)"
      ]
     },
     "execution_count": 54,
     "metadata": {},
     "output_type": "execute_result"
    }
   ],
   "source": [
    "y = digits.target\n",
    "y.shape"
   ]
  },
  {
   "cell_type": "code",
   "execution_count": 7,
   "metadata": {},
   "outputs": [
    {
     "data": {
      "text/plain": [
       "array([0, 1, 2, 3, 4, 5, 6, 7, 8, 9, 0, 1, 2, 3, 4, 5, 6, 7, 8, 9])"
      ]
     },
     "execution_count": 7,
     "metadata": {},
     "output_type": "execute_result"
    }
   ],
   "source": [
    "y[range(20)]"
   ]
  },
  {
   "cell_type": "code",
   "execution_count": 331,
   "metadata": {},
   "outputs": [],
   "source": [
    "def σ(z):\n",
    "    \"\"\"\n",
    "    Sigmoid Function that takes in a number, z, and outputs\n",
    "    the sigmoid function evaluated at z, which is in the\n",
    "    interval [0, 1]\n",
    "    \"\"\"\n",
    "    return (1 + np.exp(-z))**(-1)\n",
    "\n",
    "def loss(y, y_hat):\n",
    "    \"\"\"\n",
    "    Loss function that takes in two arrays of equal length,\n",
    "    y and y_hat, and calculates the sum of squares loss between\n",
    "    the two\n",
    "    \"\"\"\n",
    "    return sum((y - y_hat)**2)\n",
    "\n",
    "    \n",
    "def gradient_w2(node_output, outputs, targets, w2, α):\n",
    "    \"\"\"\n",
    "    Function to calculate the gradient for any one of the set of\n",
    "    weights between the hidden layer and one output node\n",
    "    INPUTS:\n",
    "        - node_output, the output of the node in the hidden layer\n",
    "                    we are working with\n",
    "        - outputs, an array of length 10 that contains all the \n",
    "                calculated outputs of the output layer\n",
    "        - targets, an array of length 10 that contains the target\n",
    "                    values of the output layer\n",
    "        - w2, the array of weights that go from the hidden layer\n",
    "            to one of the output nodes\n",
    "        - α, the learning rate\n",
    "    OUTPUTS:\n",
    "        - w2_new, an array of new weights \n",
    "    \"\"\"\n",
    "    coeff = 0\n",
    "    for p in range(10):\n",
    "        coeff += (outputs[p] - targets[p]) * outputs[p] * (1 - outputs[p])\n",
    "    coeff *= 2\n",
    "    coeff *= node_output\n",
    "    \n",
    "    w2_new = w2 - (α * coeff) * w2\n",
    "    return w2_new\n",
    "    \n",
    "def gradient_w1(w1, x, node_output, outputs, targets, w2j, α):\n",
    "    \"\"\"\n",
    "    Function to calculate the gradient for any one of the set of\n",
    "    weights between the input layer and one hidden layer node\n",
    "    INPUTS:\n",
    "        - w1, the given array of length 64 + 1 (data + bias) that was \n",
    "            fed through the input layer\n",
    "        - x, the array of input data we are using\n",
    "        - node_output, the output of the node in the hidden layer\n",
    "                    we are working with, a float value\n",
    "        - outputs, an array of length 10 that contains all the \n",
    "                calculated outputs of the output layer\n",
    "        - targets, an array of length 10 that contains the target\n",
    "                    values of the output layer\n",
    "        - w2j, the weight that goes from the second layer\n",
    "                (node j, same as node_output), to output i\n",
    "        - α, the learning rate with which to scale the change in weights\n",
    "        \n",
    "    OUTPUTS:\n",
    "        - w1_new, an array of new weights \n",
    "    \"\"\"\n",
    "    total = 0\n",
    "    for i in range(10):\n",
    "        total += (outputs[i] - targets[i]) * (outputs[i]) * (1 - outputs[i]) * w2j[i]\n",
    "        \n",
    "    coeff = []\n",
    "    for i in range(65):\n",
    "        coeff.append(2 * node_output * (1 - node_output) * x[i])\n",
    "        \n",
    "     \n",
    "    w1_new = w1 - (α * np.array(coeff))\n",
    "    return w1_new\n",
    "\n",
    "def feed_forward(x, w1, w2):\n",
    "    \"\"\"\n",
    "    Function to feed forward the array, x, and give outputs\n",
    "    INPUTS:\n",
    "        - x, an array of length 64, the data to be passed through\n",
    "        - w1, the matrix holding all the weights from the input\n",
    "            layer to the hidden layer\n",
    "        - w2, the matrix holding all the weights from the hidden layer\n",
    "            to the output layer\n",
    "    OUTPUTS:\n",
    "        - outputs, an array of length 10\n",
    "        - hidden_layer, an array of length 5\n",
    "    \"\"\"\n",
    "    hidden_layer = []\n",
    "    outputs = []\n",
    "    \n",
    "    for i in range(5):\n",
    "        hidden_layer.append(σ(np.dot(w1[:,i], x)))\n",
    "    hidden_layer.append(1)\n",
    "        \n",
    "    for i in range(10):\n",
    "        z = np.dot(w2[:,i], np.array(hidden_layer))\n",
    "        outputs.append(σ(z))\n",
    "        \n",
    "    return {'o':outputs, 'hl':hidden_layer}\n",
    "\n",
    "def NeuralNet(x, y, weights1, weights2, num_iterations=100, α=0.25):\n",
    "    \"\"\"\n",
    "    Function for optimizing the weights for the 3-layer Neural Network\n",
    "    INPUTS:\n",
    "        - x, the input data matrix with size m x n, where each row \n",
    "            is an observations\n",
    "        - y, an array of length m with all the correct classifications\n",
    "            of the data in x\n",
    "        - weights1, a matrix of size 65 x 6, where each column is a set of weights\n",
    "            corresponding to one of the hidden layer nodes\n",
    "        - weights2, a matrix of size 6 x 10, where each column is a set of weights\n",
    "            corresponding from the hidden layer to one of the output nodes\n",
    "        - num_iterations, an integer, the maximum number of iterations\n",
    "                        the algorithm will perform before stopping\n",
    "        - α, the learning rate for the algorithm\n",
    "    OUTPUTS:\n",
    "        - new_w1, the optimized weights for the first layer\n",
    "        - new_w2, the optimized weights for the second layer\n",
    "    \"\"\"\n",
    "    m = len(x)\n",
    "    n = len(x[0])\n",
    "    error = 1\n",
    "    j = 0\n",
    "    \n",
    "    w1 = weights1\n",
    "    w2 = weights2\n",
    "    while (j <= num_iterations):\n",
    "        j+=1\n",
    "        \n",
    "        # Feed Forward\n",
    "        for i in range(n):\n",
    "            obs = x[i]\n",
    "            target = y[i]\n",
    "            \n",
    "            ff = feed_forward(x[i], w1, w2)\n",
    "            outputs = ff['o']\n",
    "            hidden_layer = ff['hl']\n",
    "            guess = np.argmax(np.array(outputs))\n",
    "            \n",
    "            # Back Propagation\n",
    "            expected_y = np.zeros(10)\n",
    "            expected_y[target] = 1\n",
    "            \n",
    "            if (guess != y[i]):\n",
    "                for k in range(6):\n",
    "                    w2[k, :] = gradient_w2(hidden_layer[k], outputs, expected_y, w2[k, :], α)\n",
    "        \n",
    "                for k in range(6):\n",
    "                    w1[:,k] = gradient_w1(w1[:,k], obs, hidden_layer[k], outputs, expected_y, w2[k,:], α)\n",
    "            \n",
    "    \n",
    "    return w2[0], w1[0]"
   ]
  },
  {
   "cell_type": "code",
   "execution_count": 332,
   "metadata": {},
   "outputs": [
    {
     "data": {
      "text/plain": [
       "array([0.55202673, 0.74199731, 0.10711091, 0.22232707, 0.74926398,\n",
       "       0.24726266, 0.22070115, 0.54455869, 0.77839006, 0.37996151])"
      ]
     },
     "execution_count": 332,
     "metadata": {},
     "output_type": "execute_result"
    }
   ],
   "source": [
    "# Weights between the input layer and layer 2\n",
    "weights1 = np.random.random((64+1)*6).reshape(65,6)\n",
    "\n",
    "# Weights between layer 2 and the output layer\n",
    "weights2 = np.random.random((5+1)*10).reshape(6, 10)\n",
    "weights2[0,:]\n",
    "# This would represent all of the weights from the first node in the \n",
    "# hidden layer to the output layer"
   ]
  },
  {
   "cell_type": "code",
   "execution_count": 333,
   "metadata": {},
   "outputs": [
    {
     "data": {
      "text/plain": [
       "(array([0., 0., 0., 0., 0., 0., 0., 0., 0., 0.]),\n",
       " array([0.30088233, 0.87383575, 0.6725451 , 0.12934434, 0.74214659,\n",
       "        0.51093607]))"
      ]
     },
     "execution_count": 333,
     "metadata": {},
     "output_type": "execute_result"
    }
   ],
   "source": [
    "NeuralNet(x, y, weights1, weights2, num_iterations=100, α=.5)"
   ]
  },
  {
   "cell_type": "code",
   "execution_count": 193,
   "metadata": {},
   "outputs": [
    {
     "name": "stdout",
     "output_type": "stream",
     "text": [
      "5\n"
     ]
    },
    {
     "data": {
      "text/plain": [
       "0"
      ]
     },
     "execution_count": 193,
     "metadata": {},
     "output_type": "execute_result"
    }
   ],
   "source": [
    "j = np.random.randint(0, 1798)\n",
    "\n",
    "print(y[j])\n",
    "np.argmax(feed_forward(x[j], w1, w2)['o'])"
   ]
  },
  {
   "cell_type": "code",
   "execution_count": 198,
   "metadata": {},
   "outputs": [
    {
     "data": {
      "text/plain": [
       "array([0.])"
      ]
     },
     "execution_count": 198,
     "metadata": {},
     "output_type": "execute_result"
    }
   ],
   "source": [
    "np.zeros(1)"
   ]
  },
  {
   "cell_type": "code",
   "execution_count": 71,
   "metadata": {},
   "outputs": [
    {
     "data": {
      "text/plain": [
       "array([ 0.,  0.,  5., 13.,  9.,  1.,  0.,  0.,  0.,  0., 13., 15., 10.,\n",
       "       15.,  5.,  0.,  0.,  3., 15.,  2.,  0., 11.,  8.,  0.,  0.,  4.,\n",
       "       12.,  0.,  0.,  8.,  8.,  0.,  0.,  5.,  8.,  0.,  0.,  9.,  8.,\n",
       "        0.,  0.,  4., 11.,  0.,  1., 12.,  7.,  0.,  0.,  2., 14.,  5.,\n",
       "       10., 12.,  0.,  0.,  0.,  0.,  6., 13., 10.,  0.,  0.,  0.])"
      ]
     },
     "execution_count": 71,
     "metadata": {},
     "output_type": "execute_result"
    }
   ],
   "source": [
    "x[0]"
   ]
  },
  {
   "cell_type": "code",
   "execution_count": null,
   "metadata": {},
   "outputs": [],
   "source": []
  }
 ],
 "metadata": {
  "kernelspec": {
   "display_name": "Python 3",
   "language": "python",
   "name": "python3"
  },
  "language_info": {
   "codemirror_mode": {
    "name": "ipython",
    "version": 3
   },
   "file_extension": ".py",
   "mimetype": "text/x-python",
   "name": "python",
   "nbconvert_exporter": "python",
   "pygments_lexer": "ipython3",
   "version": "3.6.8"
  }
 },
 "nbformat": 4,
 "nbformat_minor": 4
}
