{
 "cells": [
  {
   "cell_type": "markdown",
   "metadata": {},
   "source": [
    "# Using Gradient Descent to Find Least Squares Linear Regression Line on Iris Setosa Data points\n",
    "### with Python"
   ]
  },
  {
   "cell_type": "code",
   "execution_count": 4,
   "metadata": {},
   "outputs": [],
   "source": [
    "import pandas as pd\n",
    "import numpy as np\n",
    "import time\n",
    "import matplotlib.pyplot as plt"
   ]
  },
  {
   "cell_type": "code",
   "execution_count": 5,
   "metadata": {},
   "outputs": [
    {
     "data": {
      "text/html": [
       "<div>\n",
       "<style scoped>\n",
       "    .dataframe tbody tr th:only-of-type {\n",
       "        vertical-align: middle;\n",
       "    }\n",
       "\n",
       "    .dataframe tbody tr th {\n",
       "        vertical-align: top;\n",
       "    }\n",
       "\n",
       "    .dataframe thead th {\n",
       "        text-align: right;\n",
       "    }\n",
       "</style>\n",
       "<table border=\"1\" class=\"dataframe\">\n",
       "  <thead>\n",
       "    <tr style=\"text-align: right;\">\n",
       "      <th></th>\n",
       "      <th>SepalLength</th>\n",
       "      <th>SepalWidth</th>\n",
       "    </tr>\n",
       "  </thead>\n",
       "  <tbody>\n",
       "    <tr>\n",
       "      <th>0</th>\n",
       "      <td>5.1</td>\n",
       "      <td>3.5</td>\n",
       "    </tr>\n",
       "    <tr>\n",
       "      <th>1</th>\n",
       "      <td>4.9</td>\n",
       "      <td>3.0</td>\n",
       "    </tr>\n",
       "    <tr>\n",
       "      <th>2</th>\n",
       "      <td>4.7</td>\n",
       "      <td>3.2</td>\n",
       "    </tr>\n",
       "  </tbody>\n",
       "</table>\n",
       "</div>"
      ],
      "text/plain": [
       "   SepalLength  SepalWidth\n",
       "0          5.1         3.5\n",
       "1          4.9         3.0\n",
       "2          4.7         3.2"
      ]
     },
     "execution_count": 5,
     "metadata": {},
     "output_type": "execute_result"
    }
   ],
   "source": [
    "# Reading in the iris data into a dataframe\n",
    "iris = pd.read_csv('iris_data.csv')\n",
    "iris = iris[iris['Species']=='setosa']\n",
    "# Putting the data we want into a dataframe called 'data'\n",
    "data = iris[['SepalLength', 'SepalWidth']]\n",
    "\n",
    "data.head(3)"
   ]
  },
  {
   "cell_type": "code",
   "execution_count": 32,
   "metadata": {},
   "outputs": [],
   "source": [
    "def loss_function(input_vec, output, weight_vec):\n",
    "    \"\"\"\n",
    "    Function to take in an input DataFrame, an output array, and\n",
    "    weight vector and returns the sum of squared residuals\n",
    "    INPUTS:\n",
    "        - input_vec, an array of length n that contains all the input data\n",
    "        - output, an array of length n that contains all the outputs\n",
    "        - weight_vec, an array with 2 elements, the slope and the intercept\n",
    "    OUTPUTS:\n",
    "        - total_loss, the sum of squared residuals, a scalar float value\n",
    "    \"\"\"\n",
    "    n = len(input_vec)\n",
    "    total_loss = 0\n",
    "    w1 = weight_vec[0]\n",
    "    w2 = weight_vec[1]\n",
    "    \n",
    "    total_loss = 0\n",
    "    for j in range(n):\n",
    "        x_j = input_vec[j]\n",
    "        y_j = output[j]\n",
    "        total_loss += (y_j - w1*x_j - w2)**2\n",
    "    return total_loss / n\n",
    "\n",
    "def loss_gradient(input_vec, output, weight_vec):\n",
    "    \"\"\"\n",
    "    Function to take in an input DataFrame, an output array, and\n",
    "    weight vector and returns the sum of squared residuals\n",
    "    INPUTS:\n",
    "        - input_vec, an array with the input data of length n\n",
    "        - output, an array of length n that is the outputs\n",
    "        - weight_vec, an array of 2 weights where the first weight is the slope\n",
    "                    and the second weight is the intercept\n",
    "    OUTPUTS:\n",
    "        - The computed gradient of the Loss function at the given weights\n",
    "    \"\"\"\n",
    "    n = len(input_vec)\n",
    "    sum_w1 = 0\n",
    "    sum_w2 = 0\n",
    "    for j in range(n):\n",
    "        x_j = input_vec[j]\n",
    "        y_j = output[j]\n",
    "        w1 = weight_vec[0]\n",
    "        w2 = weight_vec[1]\n",
    "        \n",
    "        sum_w1 += (-x_j) * (y_j - w1*x_j + w2)\n",
    "        sum_w2 += y_j - w1*x_j + w2\n",
    "    sum_w1 *= 2/n\n",
    "    sum_w2 *= 2/n\n",
    "    return np.array([sum_w1, sum_w2])\n",
    "\n",
    "def LSR(input_vec, output, weight_vec, loss_fxn, loss_fxn_prime, α):\n",
    "    \"\"\"\n",
    "    This is Least Squares Function that calculates an optimal slope\n",
    "    and intercept for the given input_vec (x) and output (y)\n",
    "    INPUTS:\n",
    "        - input_vec, an array of length n that contains all the input data\n",
    "        - output, an array of length n that contains all the outputs\n",
    "        - weight_vec, an array with 2 elements, the slope and the intercept\n",
    "        - loss_fxn, the loss function, a sum of squared residuals\n",
    "        - loss_fxn_prime, the gradient of the loss function\n",
    "        - α, the learning rate\n",
    "    OUTPUTS:\n",
    "        - w_hat, the final and optimal slope and intercept\n",
    "    \"\"\"\n",
    "    num_iterations = 0\n",
    "    error = float(1.0)\n",
    "    w_k = weight_vec\n",
    "    weights = []\n",
    "    all_losses = []\n",
    "    while (num_iterations <= 1000) & (error > .0001):\n",
    "        w_k1 = w_k - α*loss_fxn_prime(input_vec, output, w_k)\n",
    "        error = abs(loss_fxn(input_vec, output, w_k1) - loss_fxn(input_vec, output, w_k))\n",
    "        weights.append(w_k1)\n",
    "        all_losses.append(loss_function(input_vec, output, w_k1))\n",
    "        num_iterations += 1\n",
    "        w_k = w_k1\n",
    "    return w_k1, weights, all_losses"
   ]
  },
  {
   "cell_type": "code",
   "execution_count": 33,
   "metadata": {},
   "outputs": [
    {
     "data": {
      "text/plain": [
       "array([ 0.65877168, -0.1301109 ])"
      ]
     },
     "execution_count": 33,
     "metadata": {},
     "output_type": "execute_result"
    }
   ],
   "source": [
    "weights = np.array([0, 0])\n",
    "input_vec = np.array(data['SepalLength'])\n",
    "output = np.array(data['SepalWidth'])\n",
    "\n",
    "regression_data = LSR(input_vec, output, weights, loss_function, loss_gradient, .001)\n",
    "trained_weights = regression_data[0]\n",
    "regression_data[0]"
   ]
  },
  {
   "cell_type": "code",
   "execution_count": 34,
   "metadata": {},
   "outputs": [
    {
     "data": {
      "text/plain": [
       "[<matplotlib.lines.Line2D at 0x1dd7c297a90>]"
      ]
     },
     "execution_count": 34,
     "metadata": {},
     "output_type": "execute_result"
    },
    {
     "data": {
      "image/png": "[encoded data removed]",
      "text/plain": [
       "<Figure size 720x720 with 1 Axes>"
      ]
     },
     "metadata": {
      "needs_background": "light"
     },
     "output_type": "display_data"
    }
   ],
   "source": [
    "# Visualizing what data looks like\n",
    "# We can see the data is linearly seperable\n",
    "s_sl = np.array(iris['SepalLength'])\n",
    "s_sw = np.array(iris['SepalWidth'])\n",
    "\n",
    "x = np.arange(4.2, 6, .01)\n",
    "y = trained_weights[0]*x + trained_weights[1]\n",
    "\n",
    "plt.figure(figsize=(10, 10))\n",
    "plt.scatter(s_sl, s_sw, label=\"Setosa\")\n",
    "plt.ylabel('Sepal Width')\n",
    "plt.xlabel('Sepal Length')\n",
    "plt.title('Sepal Length vs. Sepal Width for Setosa Iris Flowers')\n",
    "plt.legend()\n",
    "plt.plot(x, y, color='black')"
   ]
  },
  {
   "cell_type": "code",
   "execution_count": 6,
   "metadata": {},
   "outputs": [
    {
     "data": {
      "text/plain": [
       "Text(0.5, 1.0, 'Slope vs. Intercept for LSR Model as the Algorithm Ran')"
      ]
     },
     "execution_count": 6,
     "metadata": {},
     "output_type": "execute_result"
    },
    {
     "data": {
      "image/png": "[encoded data removed]",
      "text/plain": [
       "<Figure size 720x720 with 1 Axes>"
      ]
     },
     "metadata": {
      "needs_background": "light"
     },
     "output_type": "display_data"
    }
   ],
   "source": [
    "slopes = []\n",
    "y_ints = []\n",
    "for i in regression_data[1]:\n",
    "    slopes.append(i[0])\n",
    "    y_ints.append(i[1])\n",
    "    \n",
    "plt.figure(figsize=(10, 10))\n",
    "plt.scatter(slopes, y_ints)\n",
    "plt.ylabel('Intercepts')\n",
    "plt.xlabel('Slopes')\n",
    "plt.title('Slope vs. Intercept for LSR Model as the Algorithm Ran')"
   ]
  },
  {
   "cell_type": "code",
   "execution_count": 7,
   "metadata": {},
   "outputs": [
    {
     "data": {
      "text/plain": [
       "Text(0.5, 1.0, 'Iteration Number vs. Total Loss for LSR')"
      ]
     },
     "execution_count": 7,
     "metadata": {},
     "output_type": "execute_result"
    },
    {
     "data": {
      "image/png": "[encoded data removed]",
      "text/plain": [
       "<Figure size 720x720 with 1 Axes>"
      ]
     },
     "metadata": {
      "needs_background": "light"
     },
     "output_type": "display_data"
    }
   ],
   "source": [
    "losses = regression_data[2]\n",
    "\n",
    "plt.figure(figsize=(10, 10))\n",
    "plt.scatter(range(1, len(losses)+1), regression_data[2])\n",
    "plt.ylabel('Total Loss')\n",
    "plt.xlabel('Iteration Number')\n",
    "plt.title('Iteration Number vs. Total Loss for LSR')"
   ]
  },
  {
   "cell_type": "code",
   "execution_count": null,
   "metadata": {},
   "outputs": [],
   "source": []
  },
  {
   "cell_type": "code",
   "execution_count": null,
   "metadata": {},
   "outputs": [],
   "source": []
  },
  {
   "cell_type": "code",
   "execution_count": null,
   "metadata": {},
   "outputs": [],
   "source": []
  }
 ],
 "metadata": {
  "kernelspec": {
   "display_name": "Python 3",
   "language": "python",
   "name": "python3"
  },
  "language_info": {
   "codemirror_mode": {
    "name": "ipython",
    "version": 3
   },
   "file_extension": ".py",
   "mimetype": "text/x-python",
   "name": "python",
   "nbconvert_exporter": "python",
   "pygments_lexer": "ipython3",
   "version": "3.6.8"
  }
 },
 "nbformat": 4,
 "nbformat_minor": 4
}
