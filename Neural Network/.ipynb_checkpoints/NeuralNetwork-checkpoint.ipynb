{
 "cells": [
  {
   "cell_type": "markdown",
   "metadata": {},
   "source": [
    "# Neural Network\n",
    "Neural Networks are one of the most used tools in machine learning. Basically, what we are doing is putting together many perceptrons into layers for a more complex system. Here, I will be using an input layer (64 nodes) -> a hidden layer (5 nodes) -> output layer (10 nodes)"
   ]
  },
  {
   "cell_type": "code",
   "execution_count": 39,
   "metadata": {},
   "outputs": [],
   "source": [
    "import pandas as pd\n",
    "import numpy as np\n",
    "import numpy.linalg as lin\n",
    "import statistics as stat\n",
    "import matplotlib.pyplot as plt\n",
    "from sklearn import datasets"
   ]
  },
  {
   "cell_type": "code",
   "execution_count": 51,
   "metadata": {},
   "outputs": [
    {
     "data": {
      "text/plain": [
       "(1797, 64)"
      ]
     },
     "execution_count": 51,
     "metadata": {},
     "output_type": "execute_result"
    }
   ],
   "source": [
    "digits = datasets.load_digits()\n",
    "x = digits.data\n",
    "x.shape"
   ]
  },
  {
   "cell_type": "code",
   "execution_count": 52,
   "metadata": {},
   "outputs": [
    {
     "data": {
      "text/plain": [
       "array([ 0.,  0.,  5., 13.,  9.,  1.,  0.,  0.,  0.,  0., 13., 15., 10.,\n",
       "       15.,  5.,  0.,  0.,  3., 15.,  2.,  0., 11.,  8.,  0.,  0.,  4.,\n",
       "       12.,  0.,  0.,  8.,  8.,  0.,  0.,  5.,  8.,  0.,  0.,  9.,  8.,\n",
       "        0.,  0.,  4., 11.,  0.,  1., 12.,  7.,  0.,  0.,  2., 14.,  5.,\n",
       "       10., 12.,  0.,  0.,  0.,  0.,  6., 13., 10.,  0.,  0.,  0.])"
      ]
     },
     "execution_count": 52,
     "metadata": {},
     "output_type": "execute_result"
    }
   ],
   "source": [
    "x[0]"
   ]
  },
  {
   "cell_type": "code",
   "execution_count": 53,
   "metadata": {},
   "outputs": [
    {
     "data": {
      "text/html": [
       "<div>\n",
       "<style scoped>\n",
       "    .dataframe tbody tr th:only-of-type {\n",
       "        vertical-align: middle;\n",
       "    }\n",
       "\n",
       "    .dataframe tbody tr th {\n",
       "        vertical-align: top;\n",
       "    }\n",
       "\n",
       "    .dataframe thead th {\n",
       "        text-align: right;\n",
       "    }\n",
       "</style>\n",
       "<table border=\"1\" class=\"dataframe\">\n",
       "  <thead>\n",
       "    <tr style=\"text-align: right;\">\n",
       "      <th></th>\n",
       "      <th>0</th>\n",
       "      <th>1</th>\n",
       "      <th>2</th>\n",
       "      <th>3</th>\n",
       "      <th>4</th>\n",
       "      <th>5</th>\n",
       "      <th>6</th>\n",
       "      <th>7</th>\n",
       "      <th>8</th>\n",
       "      <th>9</th>\n",
       "      <th>...</th>\n",
       "      <th>54</th>\n",
       "      <th>55</th>\n",
       "      <th>56</th>\n",
       "      <th>57</th>\n",
       "      <th>58</th>\n",
       "      <th>59</th>\n",
       "      <th>60</th>\n",
       "      <th>61</th>\n",
       "      <th>62</th>\n",
       "      <th>63</th>\n",
       "    </tr>\n",
       "  </thead>\n",
       "  <tbody>\n",
       "    <tr>\n",
       "      <th>0</th>\n",
       "      <td>0.0</td>\n",
       "      <td>0.0</td>\n",
       "      <td>5.0</td>\n",
       "      <td>13.0</td>\n",
       "      <td>9.0</td>\n",
       "      <td>1.0</td>\n",
       "      <td>0.0</td>\n",
       "      <td>0.0</td>\n",
       "      <td>0.0</td>\n",
       "      <td>0.0</td>\n",
       "      <td>...</td>\n",
       "      <td>0.0</td>\n",
       "      <td>0.0</td>\n",
       "      <td>0.0</td>\n",
       "      <td>0.0</td>\n",
       "      <td>6.0</td>\n",
       "      <td>13.0</td>\n",
       "      <td>10.0</td>\n",
       "      <td>0.0</td>\n",
       "      <td>0.0</td>\n",
       "      <td>0.0</td>\n",
       "    </tr>\n",
       "    <tr>\n",
       "      <th>1</th>\n",
       "      <td>0.0</td>\n",
       "      <td>0.0</td>\n",
       "      <td>0.0</td>\n",
       "      <td>12.0</td>\n",
       "      <td>13.0</td>\n",
       "      <td>5.0</td>\n",
       "      <td>0.0</td>\n",
       "      <td>0.0</td>\n",
       "      <td>0.0</td>\n",
       "      <td>0.0</td>\n",
       "      <td>...</td>\n",
       "      <td>0.0</td>\n",
       "      <td>0.0</td>\n",
       "      <td>0.0</td>\n",
       "      <td>0.0</td>\n",
       "      <td>0.0</td>\n",
       "      <td>11.0</td>\n",
       "      <td>16.0</td>\n",
       "      <td>10.0</td>\n",
       "      <td>0.0</td>\n",
       "      <td>0.0</td>\n",
       "    </tr>\n",
       "    <tr>\n",
       "      <th>2</th>\n",
       "      <td>0.0</td>\n",
       "      <td>0.0</td>\n",
       "      <td>0.0</td>\n",
       "      <td>4.0</td>\n",
       "      <td>15.0</td>\n",
       "      <td>12.0</td>\n",
       "      <td>0.0</td>\n",
       "      <td>0.0</td>\n",
       "      <td>0.0</td>\n",
       "      <td>0.0</td>\n",
       "      <td>...</td>\n",
       "      <td>5.0</td>\n",
       "      <td>0.0</td>\n",
       "      <td>0.0</td>\n",
       "      <td>0.0</td>\n",
       "      <td>0.0</td>\n",
       "      <td>3.0</td>\n",
       "      <td>11.0</td>\n",
       "      <td>16.0</td>\n",
       "      <td>9.0</td>\n",
       "      <td>0.0</td>\n",
       "    </tr>\n",
       "    <tr>\n",
       "      <th>3</th>\n",
       "      <td>0.0</td>\n",
       "      <td>0.0</td>\n",
       "      <td>7.0</td>\n",
       "      <td>15.0</td>\n",
       "      <td>13.0</td>\n",
       "      <td>1.0</td>\n",
       "      <td>0.0</td>\n",
       "      <td>0.0</td>\n",
       "      <td>0.0</td>\n",
       "      <td>8.0</td>\n",
       "      <td>...</td>\n",
       "      <td>9.0</td>\n",
       "      <td>0.0</td>\n",
       "      <td>0.0</td>\n",
       "      <td>0.0</td>\n",
       "      <td>7.0</td>\n",
       "      <td>13.0</td>\n",
       "      <td>13.0</td>\n",
       "      <td>9.0</td>\n",
       "      <td>0.0</td>\n",
       "      <td>0.0</td>\n",
       "    </tr>\n",
       "    <tr>\n",
       "      <th>4</th>\n",
       "      <td>0.0</td>\n",
       "      <td>0.0</td>\n",
       "      <td>0.0</td>\n",
       "      <td>1.0</td>\n",
       "      <td>11.0</td>\n",
       "      <td>0.0</td>\n",
       "      <td>0.0</td>\n",
       "      <td>0.0</td>\n",
       "      <td>0.0</td>\n",
       "      <td>0.0</td>\n",
       "      <td>...</td>\n",
       "      <td>0.0</td>\n",
       "      <td>0.0</td>\n",
       "      <td>0.0</td>\n",
       "      <td>0.0</td>\n",
       "      <td>0.0</td>\n",
       "      <td>2.0</td>\n",
       "      <td>16.0</td>\n",
       "      <td>4.0</td>\n",
       "      <td>0.0</td>\n",
       "      <td>0.0</td>\n",
       "    </tr>\n",
       "  </tbody>\n",
       "</table>\n",
       "<p>5 rows × 64 columns</p>\n",
       "</div>"
      ],
      "text/plain": [
       "    0    1    2     3     4     5    6    7    8    9   ...   54   55   56  \\\n",
       "0  0.0  0.0  5.0  13.0   9.0   1.0  0.0  0.0  0.0  0.0  ...  0.0  0.0  0.0   \n",
       "1  0.0  0.0  0.0  12.0  13.0   5.0  0.0  0.0  0.0  0.0  ...  0.0  0.0  0.0   \n",
       "2  0.0  0.0  0.0   4.0  15.0  12.0  0.0  0.0  0.0  0.0  ...  5.0  0.0  0.0   \n",
       "3  0.0  0.0  7.0  15.0  13.0   1.0  0.0  0.0  0.0  8.0  ...  9.0  0.0  0.0   \n",
       "4  0.0  0.0  0.0   1.0  11.0   0.0  0.0  0.0  0.0  0.0  ...  0.0  0.0  0.0   \n",
       "\n",
       "    57   58    59    60    61   62   63  \n",
       "0  0.0  6.0  13.0  10.0   0.0  0.0  0.0  \n",
       "1  0.0  0.0  11.0  16.0  10.0  0.0  0.0  \n",
       "2  0.0  0.0   3.0  11.0  16.0  9.0  0.0  \n",
       "3  0.0  7.0  13.0  13.0   9.0  0.0  0.0  \n",
       "4  0.0  0.0   2.0  16.0   4.0  0.0  0.0  \n",
       "\n",
       "[5 rows x 64 columns]"
      ]
     },
     "execution_count": 53,
     "metadata": {},
     "output_type": "execute_result"
    }
   ],
   "source": [
    "# We can see that since each row is an 8x8 picture, it has 64 columns in it\n",
    "# Each row is an image\n",
    "pd.DataFrame(x).head()"
   ]
  },
  {
   "cell_type": "code",
   "execution_count": 54,
   "metadata": {},
   "outputs": [
    {
     "data": {
      "text/plain": [
       "(1797,)"
      ]
     },
     "execution_count": 54,
     "metadata": {},
     "output_type": "execute_result"
    }
   ],
   "source": [
    "y = digits.target\n",
    "y.shape"
   ]
  },
  {
   "cell_type": "code",
   "execution_count": 7,
   "metadata": {},
   "outputs": [
    {
     "data": {
      "text/plain": [
       "array([0, 1, 2, 3, 4, 5, 6, 7, 8, 9, 0, 1, 2, 3, 4, 5, 6, 7, 8, 9])"
      ]
     },
     "execution_count": 7,
     "metadata": {},
     "output_type": "execute_result"
    }
   ],
   "source": [
    "y[range(20)]"
   ]
  },
  {
   "cell_type": "code",
   "execution_count": 69,
   "metadata": {},
   "outputs": [
    {
     "data": {
      "text/plain": [
       "array([0.83703249, 0.43184937, 0.02175572, 0.06054406, 0.66804577,\n",
       "       0.16697953])"
      ]
     },
     "execution_count": 69,
     "metadata": {},
     "output_type": "execute_result"
    }
   ],
   "source": [
    "# Weights between the input layer and layer 2\n",
    "w1 = np.random.random((64+1)*5).reshape(65,5)\n",
    "\n",
    "# Weights between layer 2 and the output layer\n",
    "w2 = np.random.random((5+1)*10).reshape(6, 10)\n",
    "w2[:,0]\n",
    "# This would represent all of the weights from the first node in the \n",
    "# hidden layer to the output layer"
   ]
  },
  {
   "cell_type": "code",
   "execution_count": 64,
   "metadata": {},
   "outputs": [],
   "source": [
    "def σ(z):\n",
    "    \"\"\"\n",
    "    Sigmoid Function that takes in a number, z, and outputs\n",
    "    the sigmoid function evaluated at z, which is in the\n",
    "    interval [0, 1]\n",
    "    \"\"\"\n",
    "    return (1 + np.exp(-z))**(-1)\n",
    "\n",
    "def loss(y, y_hat):\n",
    "    \"\"\"\n",
    "    Loss function that takes in two arrays of equal length,\n",
    "    y and y_hat, and calculates the sum of squares loss between\n",
    "    the two\n",
    "    \"\"\"\n",
    "    return sum((y - y_hat)**2)\n",
    "\n",
    "# I'm calling all the weights between the input nodes and\n",
    "# the hidden layer w1\n",
    "def gradient_w1():\n",
    "    \"\"\"\n",
    "    Function to calculate the gradient for any one of the weights\n",
    "    between the input layer and the hidden layer\n",
    "    \"\"\"\n",
    "    \n",
    "def gradient_w2(y_hat, y, w2, α):\n",
    "    \"\"\"\n",
    "    Function to calculate the gradient for any one of the set of\n",
    "    weights between the hidden layer and one output node\n",
    "    INPUTS:\n",
    "        - y_hat, the calculated value of the output node that w2 goes to\n",
    "        - y, the expected value of the output layer node\n",
    "        - w2, an array of the weights from the hideen layer to the same\n",
    "            output node referenced in y_hat\n",
    "        - α, the learning rate with which to scale the change in weights\n",
    "    OUTPUTS:\n",
    "        - w2_new, an array of new weights \n",
    "    \"\"\"\n",
    "    coeff = 2 * (y - y_hat) * y_hat * (1 - y_hat)\n",
    "    \n",
    "    w2_new = w2 - (α * coeff)*w2\n",
    "    return w2_new\n",
    "    \n",
    "def gradient_w1(y_hat, y, w1, w2, w2_node, x, α):\n",
    "    \"\"\"\n",
    "    Function to calculate the gradient for any one of the set of\n",
    "    weights between the input layer and one hidden layer node\n",
    "    INPUTS:\n",
    "        - y_hat, an array of size 10, the calculated values of every\n",
    "                node in the output layer\n",
    "        - y, an array of size 10, the expected value of the output layer nodes\n",
    "        - w1, one of the sets of weights from the input layer to\n",
    "            a specific node in the hidden layer, L2_node\n",
    "        - w2, the set of weights from the hidden layer to the output layer \n",
    "        - w2_node, a single int, the index of the w2_node being moved through\n",
    "        - α, the learning rate with which to scale the change in weights\n",
    "        - x, the given array of length 64 + 1 (data + bias) that was \n",
    "            fed through the input layer\n",
    "    OUTPUTS:\n",
    "        - w1_new, an array of new weights \n",
    "    \"\"\"\n",
    "    total = 0\n",
    "    z = np.dot(w1, x)\n",
    "    for i in range(10):\n",
    "        total += 2 * (y - y_hat) * y_hat * (1 - y_hat) * w2[:,i][w2_node]\n",
    "    coeff = total * σ(z) * (1 - σ(z))\n",
    "    \n",
    "    w1_new = w1 - (α * coeff)*w1\n",
    "    return w2_new\n",
    "\n",
    "def feed_forward(x, w1, w2):\n",
    "    \"\"\"\n",
    "    Function to feed forward the array, x, and give outputs\n",
    "    INPUTS:\n",
    "        - x, an array of length 65, the data to be passed through\n",
    "        - w1, the matrix holding all the weights from the input\n",
    "            layer to the hidden layer\n",
    "        - w2, the matrix holding all the weights from the hidden layer\n",
    "            to the output layer\n",
    "    OUTPUTS:\n",
    "        - outputs, an array of length 10\n",
    "        - hidden_layer, an array of length 5\n",
    "    \"\"\"\n",
    "    hidden_layer = []\n",
    "    outputs = []\n",
    "    \n",
    "    for i in range(5):\n",
    "        hidden_layer.append(σ(np.dot(w1[:,i]), x) + w1[64,i])\n",
    "        \n",
    "    for i in range(6):\n",
    "        outputs.append(σ(np.dot(w2[:,i], np.array(hidden_layer)) + w2[5,i]))\n",
    "        \n",
    "    return {'o':outputs, 'hl':hidden_layer}\n",
    "\n",
    "def NeuralNet(x, y, w1, w2, num_iterations=1000, ϵ=.01):\n",
    "    \"\"\"\n",
    "    Function for optimizing the weights for the 3-layer Neural Network\n",
    "    INPUTS:\n",
    "        - x, the input data matrix with size m x n, where each row \n",
    "            is an observations\n",
    "        - y, an array of length m with all the correct classifications\n",
    "            of the data in x\n",
    "        - w1, a matrix of size 65 x 6, where each column is a set of weights\n",
    "            corresponding to one of the hidden layer nodes\n",
    "        - w2, a matrix of size 6 x 10, where each column is a set of weights\n",
    "            corresponding from the hidden layer to one of the output nodes\n",
    "        - num_iterations, an integer, the maximum number of iterations\n",
    "                        the algorithm will perform before stopping\n",
    "        - epsilon, the threshold of error for stopping the algorithm\n",
    "    OUTPUTS:\n",
    "        - new_w1, the optimized weights for the first layer\n",
    "        - new_w2, the optimized weights for the second layer\n",
    "    \"\"\"\n",
    "    m = len(x)\n",
    "    n = len(x[0])\n",
    "    error = 1\n",
    "    j = 0\n",
    "    \n",
    "    while (j <= num_iterations) and (error >= epsilon):\n",
    "        j+=1\n",
    "        \n",
    "        # Feed Forward\n",
    "        \n",
    "        \n",
    "        # Back Propagation\n",
    "    "
   ]
  },
  {
   "cell_type": "code",
   "execution_count": 29,
   "metadata": {},
   "outputs": [
    {
     "data": {
      "text/plain": [
       "6"
      ]
     },
     "execution_count": 29,
     "metadata": {},
     "output_type": "execute_result"
    }
   ],
   "source": [
    "np.dot(np.array([1,1,1]), np.array([2,2,2]))"
   ]
  },
  {
   "cell_type": "code",
   "execution_count": 68,
   "metadata": {},
   "outputs": [
    {
     "data": {
      "text/plain": [
       "array([ 0.,  0.,  5., 13.,  9.,  1.,  0.,  0.,  0.,  0., 13., 15., 10.,\n",
       "       15.,  5.,  0.,  0.,  3., 15.,  2.,  0., 11.,  8.,  0.,  0.,  4.,\n",
       "       12.,  0.,  0.,  8.,  8.,  0.,  0.,  5.,  8.,  0.,  0.,  9.,  8.,\n",
       "        0.,  0.,  4., 11.,  0.,  1., 12.,  7.,  0.,  0.,  2., 14.,  5.,\n",
       "       10., 12.,  0.,  0.,  0.,  0.,  6., 13., 10.,  0.,  0.,  0.])"
      ]
     },
     "execution_count": 68,
     "metadata": {},
     "output_type": "execute_result"
    }
   ],
   "source": [
    "x[0,:]"
   ]
  },
  {
   "cell_type": "code",
   "execution_count": null,
   "metadata": {},
   "outputs": [],
   "source": []
  }
 ],
 "metadata": {
  "kernelspec": {
   "display_name": "Python 3",
   "language": "python",
   "name": "python3"
  },
  "language_info": {
   "codemirror_mode": {
    "name": "ipython",
    "version": 3
   },
   "file_extension": ".py",
   "mimetype": "text/x-python",
   "name": "python",
   "nbconvert_exporter": "python",
   "pygments_lexer": "ipython3",
   "version": "3.6.8"
  }
 },
 "nbformat": 4,
 "nbformat_minor": 4
}
