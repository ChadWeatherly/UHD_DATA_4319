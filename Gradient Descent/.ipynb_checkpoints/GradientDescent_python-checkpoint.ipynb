{
 "cells": [
  {
   "cell_type": "markdown",
   "metadata": {},
   "source": [
    "# Using Gradient Descent to Find Least Squares Linear Regression Line on Iris Dataset\n",
    "### with Python"
   ]
  },
  {
   "cell_type": "code",
   "execution_count": 8,
   "metadata": {},
   "outputs": [],
   "source": [
    "import pandas as pd\n",
    "import numpy as np\n",
    "import time\n",
    "import matplotlib.pyplot as plt"
   ]
  },
  {
   "cell_type": "code",
   "execution_count": 14,
   "metadata": {},
   "outputs": [
    {
     "name": "stderr",
     "output_type": "stream",
     "text": [
      "C:\\Users\\chadw\\Anaconda3\\lib\\site-packages\\ipykernel_launcher.py:10: SettingWithCopyWarning: \n",
      "A value is trying to be set on a copy of a slice from a DataFrame.\n",
      "Try using .loc[row_indexer,col_indexer] = value instead\n",
      "\n",
      "See the caveats in the documentation: http://pandas.pydata.org/pandas-docs/stable/indexing.html#indexing-view-versus-copy\n",
      "  # Remove the CWD from sys.path while we load stuff.\n"
     ]
    },
    {
     "data": {
      "text/html": [
       "<div>\n",
       "<style scoped>\n",
       "    .dataframe tbody tr th:only-of-type {\n",
       "        vertical-align: middle;\n",
       "    }\n",
       "\n",
       "    .dataframe tbody tr th {\n",
       "        vertical-align: top;\n",
       "    }\n",
       "\n",
       "    .dataframe thead th {\n",
       "        text-align: right;\n",
       "    }\n",
       "</style>\n",
       "<table border=\"1\" class=\"dataframe\">\n",
       "  <thead>\n",
       "    <tr style=\"text-align: right;\">\n",
       "      <th></th>\n",
       "      <th>Species</th>\n",
       "      <th>SepalLength</th>\n",
       "      <th>SepalWidth</th>\n",
       "      <th>Bias</th>\n",
       "    </tr>\n",
       "  </thead>\n",
       "  <tbody>\n",
       "    <tr>\n",
       "      <th>0</th>\n",
       "      <td>setosa</td>\n",
       "      <td>5.1</td>\n",
       "      <td>3.5</td>\n",
       "      <td>1</td>\n",
       "    </tr>\n",
       "    <tr>\n",
       "      <th>1</th>\n",
       "      <td>setosa</td>\n",
       "      <td>4.9</td>\n",
       "      <td>3.0</td>\n",
       "      <td>1</td>\n",
       "    </tr>\n",
       "    <tr>\n",
       "      <th>2</th>\n",
       "      <td>setosa</td>\n",
       "      <td>4.7</td>\n",
       "      <td>3.2</td>\n",
       "      <td>1</td>\n",
       "    </tr>\n",
       "  </tbody>\n",
       "</table>\n",
       "</div>"
      ],
      "text/plain": [
       "  Species  SepalLength  SepalWidth  Bias\n",
       "0  setosa          5.1         3.5     1\n",
       "1  setosa          4.9         3.0     1\n",
       "2  setosa          4.7         3.2     1"
      ]
     },
     "execution_count": 14,
     "metadata": {},
     "output_type": "execute_result"
    }
   ],
   "source": [
    "# Reading in the iris data into a dataframe\n",
    "iris = pd.read_csv('iris_data.csv')\n",
    "# Putting the data we want into a dataframe called 'data'\n",
    "data = iris[['SepalLength', 'SepalWidth', 'Species']]\n",
    "\n",
    "# Adding a column of biases (1) to each row, so I can quickly grab vectors from the dataframe\n",
    "bias = []\n",
    "for i in range(150):\n",
    "    bias.append(1)\n",
    "data['Bias'] = bias\n",
    "\n",
    "# Reorganizing the column order for readability\n",
    "data = data[['Species', 'SepalLength', 'SepalWidth', 'Bias']]\n",
    "data.head(3)"
   ]
  },
  {
   "cell_type": "code",
   "execution_count": 57,
   "metadata": {},
   "outputs": [
    {
     "name": "stdout",
     "output_type": "stream",
     "text": [
      "ehllo\n"
     ]
    }
   ],
   "source": [
    "if (1 == 1 and 1 == 1):\n",
    "    print('ehllo')"
   ]
  },
  {
   "cell_type": "code",
   "execution_count": 62,
   "metadata": {},
   "outputs": [
    {
     "name": "stdout",
     "output_type": "stream",
     "text": [
      "[ 0.91 -0.2 ]\n"
     ]
    },
    {
     "name": "stderr",
     "output_type": "stream",
     "text": [
      "C:\\Users\\chadw\\Anaconda3\\lib\\site-packages\\ipykernel_launcher.py:21: RuntimeWarning: overflow encountered in double_scalars\n",
      "C:\\Users\\chadw\\Anaconda3\\lib\\site-packages\\ipykernel_launcher.py:73: RuntimeWarning: invalid value encountered in double_scalars\n"
     ]
    },
    {
     "data": {
      "text/plain": [
       "(array([-1.54843944e+155,  2.59951740e+154]),\n",
       " [array([-224.64735,   36.7015 ]),\n",
       "  array([120611.98805475, -20250.0212275 ]),\n",
       "  array([-64659928.40951619,  10855095.19018383]),\n",
       "  array([ 3.46641661e+10, -5.81941410e+09]),\n",
       "  array([-1.85834479e+13,  3.11978596e+12]),\n",
       "  array([ 9.96258023e+15, -1.67251621e+15]),\n",
       "  array([-5.34093594e+18,  8.96635384e+17]),\n",
       "  array([ 2.86327397e+21, -4.80685930e+20]),\n",
       "  array([-1.53500022e+24,  2.57695567e+23]),\n",
       "  array([ 8.22913108e+26, -1.38150508e+26]),\n",
       "  array([-4.41163443e+29,  7.40624410e+28]),\n",
       "  array([ 2.36507575e+32, -3.97048499e+31]),\n",
       "  array([-1.26791632e+35,  2.12857568e+34]),\n",
       "  array([ 6.79729516e+37, -1.14112871e+37]),\n",
       "  array([-3.64402767e+40,  6.11758722e+39]),\n",
       "  array([ 1.95356202e+43, -3.27963647e+42]),\n",
       "  array([-1.04730395e+46,  1.75821202e+45]),\n",
       "  array([ 5.61459296e+48, -9.42576877e+47]),\n",
       "  array([-3.00998141e+51,  5.05315149e+50]),\n",
       "  array([ 1.61365003e+54, -2.70899283e+53]),\n",
       "  array([-8.65077244e+56,  1.45229015e+56]),\n",
       "  array([ 4.63767622e+59, -7.78572267e+58]),\n",
       "  array([-2.48625668e+62,  4.17392333e+61]),\n",
       "  array([ 1.33288138e+65, -2.23763890e+64]),\n",
       "  array([-7.14557261e+67,  1.19959747e+67]),\n",
       "  array([ 3.83073909e+70, -6.43103804e+69]),\n",
       "  array([-2.05365795e+73,  3.44767735e+72]),\n",
       "  array([ 1.10096534e+76, -1.84829868e+75]),\n",
       "  array([-5.90227153e+78,  9.90872304e+77]),\n",
       "  array([ 3.16420580e+81, -5.31206312e+80]),\n",
       "  array([-1.69632967e+84,  2.84779527e+83]),\n",
       "  array([ 9.09401772e+86, -1.52670209e+86]),\n",
       "  array([-4.87529987e+89,  8.18464483e+88]),\n",
       "  array([ 2.61364663e+92, -4.38778536e+91]),\n",
       "  array([-1.40117509e+95,  2.35229027e+94]),\n",
       "  array([ 7.51169498e+97, -1.26106203e+97]),\n",
       "  array([-4.02701717e+100,  6.76054933e+099]),\n",
       "  array([ 2.15888256e+103, -3.62432824e+102]),\n",
       "  array([-1.15737622e+106,  1.94300116e+105]),\n",
       "  array([ 6.20469007e+108, -1.04164228e+108]),\n",
       "  array([-3.32633228e+111,  5.58424077e+110]),\n",
       "  array([ 1.78324563e+114, -2.99370961e+113]),\n",
       "  array([-9.55997385e+116,  1.60492672e+116]),\n",
       "  array([ 5.12509879e+119, -8.60400682e+118]),\n",
       "  array([-2.74756375e+122,  4.61260519e+121]),\n",
       "  array([ 1.47296801e+125, -2.47281610e+124]),\n",
       "  array([-7.89657660e+127,  1.32567589e+127]),\n",
       "  array([ 4.23335208e+130, -7.10694402e+129]),\n",
       "  array([-2.26949864e+133,  3.81003032e+132]),\n",
       "  array([ 1.21667746e+136, -2.04255598e+135]),\n",
       "  array([-6.52260383e+138,  1.09501358e+138]),\n",
       "  array([ 3.49676574e+141, -5.87036416e+140]),\n",
       "  array([-1.87461495e+144,  3.14710027e+143]),\n",
       "  array([ 1.00498045e+147, -1.68715940e+146]),\n",
       "  array([-5.38769683e+149,  9.04485594e+148]),\n",
       "  array([ 2.88834247e+152, -4.84894425e+151]),\n",
       "  array([-1.54843944e+155,  2.59951740e+154])])"
      ]
     },
     "execution_count": 62,
     "metadata": {},
     "output_type": "execute_result"
    }
   ],
   "source": [
    "def loss_function(input_vec, output, weight_vec):\n",
    "    \"\"\"\n",
    "    Function to take in an input DataFrame, an output array, and\n",
    "    weight vector and returns the sum of squared residuals\n",
    "    INPUTS:\n",
    "        - input_vec, an array of length n that contains all the input data\n",
    "        - output, an array of length n that contains all the outputs\n",
    "        - weight_vec, an array with 2 elements, the slope and the intercept\n",
    "    OUTPUTS:\n",
    "        - total_loss, the sum of squared residuals, a scalar float value\n",
    "    \"\"\"\n",
    "    n = len(input_vec)\n",
    "    total_loss = 0\n",
    "    w1 = weight_vec[0]\n",
    "    w2 = weight_vec[1]\n",
    "    \n",
    "    total_loss = 0\n",
    "    for j in range(n):\n",
    "        x_j = input_vec[j]\n",
    "        y_j = output[j]\n",
    "        total_loss += (output[j] - w1*x_j - w2)**2\n",
    "    return 0.5 * total_loss\n",
    "\n",
    "def loss_gradient(input_vec, output, weight_vec):\n",
    "    \"\"\"\n",
    "    Function to take in an input DataFrame, an output array, and\n",
    "    weight vector and returns the sum of squared residuals\n",
    "    INPUTS:\n",
    "        - input_vec, an array with the input data of length n\n",
    "        - output, an array of length n that is the outputs\n",
    "        - weight_vec, an array of 2 weights where the first weight is the slope\n",
    "                    and the second weight is the intercept\n",
    "    OUTPUTS:\n",
    "        - The computed gradient of the Loss function at the given weights\n",
    "    \"\"\"\n",
    "    n = len(input_df.index)\n",
    "    inputs = []\n",
    "    for i in input_df.columns.values:\n",
    "        inputs.append(np.array(input_df[str(i)]))\n",
    "        \n",
    "    sum_w1 = 0\n",
    "    sum_w2 = 0\n",
    "    for j in range(n):\n",
    "        x_j = input_vec[j]\n",
    "        y_j = output[j]\n",
    "        w1 = weight_vec[0]\n",
    "        w2 = weight_vec[1]\n",
    "        \n",
    "        sum_w1 += (-x_j) * (y_j - w1*x_j + w2)\n",
    "        sum_w2 += y_j - w1*x_j + w2\n",
    "    return np.array([sum_w1, sum_w2])\n",
    "\n",
    "def LSR(input_vec, output, weight_vec, loss_fxn, loss_fxn_prime, α):\n",
    "    \"\"\"\n",
    "    This is Least Squares Function that calculates an optimal slope\n",
    "    and intercept for the given input_vec (x) and output (y)\n",
    "    INPUTS:\n",
    "        - input_vec, an array of length n that contains all the input data\n",
    "        - output, an array of length n that contains all the outputs\n",
    "        - weight_vec, an array with 2 elements, the slope and the intercept\n",
    "        - loss_fxn, the loss function, a sum of squared residuals\n",
    "        - loss_fxn_prime, the gradient of the loss function\n",
    "        - α, the learning rate\n",
    "    OUTPUTS:\n",
    "        - w_hat, the final and optimal slope and intercept\n",
    "    \"\"\"\n",
    "    num_iterations = 0\n",
    "    error = float(1.0)\n",
    "    w_k = weight_vec\n",
    "    weights = []\n",
    "    while (num_iterations <= 3000) & (error > .001):\n",
    "        w_k1 = w_k - α*loss_fxn_prime(input_vec, output, w_k)\n",
    "        error = abs(loss_fxn(input_vec, output, w_k1) - loss_fxn(input_vec, output, w_k))\n",
    "        num_iterations += 1\n",
    "        weights.append(w_k1)\n",
    "        w_k = w_k1\n",
    "    return w_k1, weights\n",
    "\n",
    "    \n",
    "weights = np.array([round(np.random.normal(),2), round(np.random.normal(), 2)])\n",
    "print(weights)\n",
    "input_vec = np.array(data['SepalLength'])\n",
    "output = np.array(data['SepalWidth'])\n",
    "\n",
    "LSR(input_vec, output, weights, loss_function, loss_gradient, .1)\n",
    "# # Setting up the training and testing data as dataframes. The training data contains the first 30 rows of each species \n",
    "# # while the testing data contains the final 20 rows of each species\n",
    "# train = data.loc[0:29].append(data.loc[50:79])\n",
    "# test = data.loc[30:49].append(data.loc[80:99])\n",
    "\n",
    "# # The weights array is a numpy array with 3 random floating point values in the interval [0,1].\n",
    "# # The rest of this is setting up inputs to correctly go into the Perceptron algorithm\n",
    "# input_x = train[['SepalLength', 'SepalWidth', 'Bias']]\n",
    "# input_x_labels = train['Expected Output']\n",
    "# weights = np.array([round(np.random.normal(),2), round(np.random.normal(), 2), round(np.random.normal(), 2)])\n",
    "\n",
    "# # This chunk actually trains the weights and gives us the outputted weights from the Perceptron\n",
    "# # as well as giving the user the amount of time the function took to execute. \n",
    "# start_time = time.time()\n",
    "# trained_weights = perceptron(input_x, input_x_labels, weights)\n",
    "# elapsed = round(time.time() - start_time, 2)\n",
    "# print(\"Execution completed in {} seconds\".format(elapsed))\n",
    "# print(trained_weights)"
   ]
  },
  {
   "cell_type": "code",
   "execution_count": 13,
   "metadata": {},
   "outputs": [
    {
     "data": {
      "text/plain": [
       "<matplotlib.legend.Legend at 0x15ec9ec6668>"
      ]
     },
     "execution_count": 13,
     "metadata": {},
     "output_type": "execute_result"
    },
    {
     "data": {
      "image/png": "[encoded data removed]",
      "text/plain": [
       "<Figure size 720x720 with 1 Axes>"
      ]
     },
     "metadata": {
      "needs_background": "light"
     },
     "output_type": "display_data"
    }
   ],
   "source": [
    "# Visualizing what data looks like\n",
    "# We can see the data is linearly seperable\n",
    "s_sl = np.array(data[data['Species'] == 'setosa']['SepalLength'])\n",
    "s_sw = np.array(data[data['Species'] == 'setosa']['SepalWidth'])\n",
    "ve_sl = np.array(data[data['Species'] == 'versicolor']['SepalLength'])\n",
    "ve_sw = np.array(data[data['Species'] == 'versicolor']['SepalWidth'])\n",
    "vi_sl = np.array(data[data['Species'] == 'virginica']['SepalLength'])\n",
    "vi_sw = np.array(data[data['Species'] == 'virginica']['SepalWidth'])\n",
    "\n",
    "plt.figure(figsize=(10, 10))\n",
    "plt.scatter(s_sl, s_sw, label=\"Setosa\")\n",
    "plt.scatter(ve_sl, ve_sw, label=\"Versicolor\")\n",
    "plt.scatter(vi_sl, vi_sw, label=\"Virginica\")\n",
    "plt.ylabel('Sepal Width')\n",
    "plt.xlabel('Sepal Length')\n",
    "plt.title('Sepal Length vs. Sepal Width for Iris Flowers')\n",
    "plt.legend()\n",
    "# plt.plot(x, y, color='black')"
   ]
  },
  {
   "cell_type": "code",
   "execution_count": null,
   "metadata": {},
   "outputs": [],
   "source": []
  }
 ],
 "metadata": {
  "kernelspec": {
   "display_name": "Python 3",
   "language": "python",
   "name": "python3"
  },
  "language_info": {
   "codemirror_mode": {
    "name": "ipython",
    "version": 3
   },
   "file_extension": ".py",
   "mimetype": "text/x-python",
   "name": "python",
   "nbconvert_exporter": "python",
   "pygments_lexer": "ipython3",
   "version": "3.6.8"
  }
 },
 "nbformat": 4,
 "nbformat_minor": 4
}
