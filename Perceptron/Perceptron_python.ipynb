{
 "cells": [
  {
   "cell_type": "markdown",
   "metadata": {},
   "source": [
    "# Perceptron Learning Algorithm in Python"
   ]
  },
  {
   "cell_type": "markdown",
   "metadata": {},
   "source": [
    "In this project, what I did was read in the Iris data set and then put it into a usable form. I chose to use a Pandas DataFrame because I can easily take out individual rows and pass them to `np.array(ROW)` in order to create the needed arrays. This is why I chose Numpy. the package 'time' is used to check how fast the perceptron runs, depending on how many iterations the user decides to test with. Matplotlib.pyplot was used to visualize the data.\n",
    "\n",
    "The later code blocks are used to actually create the necessary functions, then to use them and test how well the perceptron algorithm works with the Iris data set. "
   ]
  },
  {
   "cell_type": "code",
   "execution_count": 1,
   "metadata": {},
   "outputs": [],
   "source": [
    "import pandas as pd\n",
    "import numpy as np\n",
    "import time\n",
    "import matplotlib.pyplot as plt"
   ]
  },
  {
   "cell_type": "code",
   "execution_count": 2,
   "metadata": {},
   "outputs": [
    {
     "data": {
      "text/html": [
       "<div>\n",
       "<style scoped>\n",
       "    .dataframe tbody tr th:only-of-type {\n",
       "        vertical-align: middle;\n",
       "    }\n",
       "\n",
       "    .dataframe tbody tr th {\n",
       "        vertical-align: top;\n",
       "    }\n",
       "\n",
       "    .dataframe thead th {\n",
       "        text-align: right;\n",
       "    }\n",
       "</style>\n",
       "<table border=\"1\" class=\"dataframe\">\n",
       "  <thead>\n",
       "    <tr style=\"text-align: right;\">\n",
       "      <th></th>\n",
       "      <th>Species</th>\n",
       "      <th>SepalLength</th>\n",
       "      <th>SepalWidth</th>\n",
       "      <th>Bias</th>\n",
       "      <th>Expected Output</th>\n",
       "    </tr>\n",
       "  </thead>\n",
       "  <tbody>\n",
       "    <tr>\n",
       "      <th>0</th>\n",
       "      <td>setosa</td>\n",
       "      <td>5.1</td>\n",
       "      <td>3.5</td>\n",
       "      <td>1</td>\n",
       "      <td>1</td>\n",
       "    </tr>\n",
       "    <tr>\n",
       "      <th>1</th>\n",
       "      <td>setosa</td>\n",
       "      <td>4.9</td>\n",
       "      <td>3.0</td>\n",
       "      <td>1</td>\n",
       "      <td>1</td>\n",
       "    </tr>\n",
       "    <tr>\n",
       "      <th>2</th>\n",
       "      <td>setosa</td>\n",
       "      <td>4.7</td>\n",
       "      <td>3.2</td>\n",
       "      <td>1</td>\n",
       "      <td>1</td>\n",
       "    </tr>\n",
       "  </tbody>\n",
       "</table>\n",
       "</div>"
      ],
      "text/plain": [
       "  Species  SepalLength  SepalWidth  Bias  Expected Output\n",
       "0  setosa          5.1         3.5     1                1\n",
       "1  setosa          4.9         3.0     1                1\n",
       "2  setosa          4.7         3.2     1                1"
      ]
     },
     "execution_count": 2,
     "metadata": {},
     "output_type": "execute_result"
    }
   ],
   "source": [
    "# Reading in the iris data into a dataframe\n",
    "iris = pd.read_csv('iris_data.csv')\n",
    "# Putting the data we want into a dataframe called 'data'\n",
    "data = iris[['SepalLength', 'SepalWidth', 'Species']].loc[range(100)]\n",
    "\n",
    "# Adds a column to data that gives us our expected output where for each row,\n",
    "# if Species == 'setosa', expected output = 1 \n",
    "# if Species == 'versicolor', expected output = -1\n",
    "output = []\n",
    "for i in data['Species']:\n",
    "    if i == 'setosa':\n",
    "        output.append(1)\n",
    "    else:\n",
    "        output.append(-1)\n",
    "data['Expected Output'] = output\n",
    "\n",
    "# Adding a column of biases (1) to each row, so I can quickly grab vectors from the dataframe\n",
    "bias = []\n",
    "for i in range(100):\n",
    "    bias.append(1)\n",
    "data['Bias'] = bias\n",
    "\n",
    "# Reorganizing the column order for readability\n",
    "data = data[['Species', 'SepalLength', 'SepalWidth', 'Bias', 'Expected Output']]\n",
    "data.head(3)"
   ]
  },
  {
   "cell_type": "code",
   "execution_count": 3,
   "metadata": {},
   "outputs": [
    {
     "name": "stdout",
     "output_type": "stream",
     "text": [
      "Execution completed in 0.99 seconds\n",
      "[-7.09 10.91  4.71]\n"
     ]
    }
   ],
   "source": [
    "def h_sum(weight_vec, input_vec):\n",
    "    \"\"\"\n",
    "    Function to add up the sum(weights_i x input_i), \n",
    "    essentially finding the dot product\n",
    "    INPUTS:\n",
    "        - weights_vec, weights vector passed as an array\n",
    "        - input_vec, input vector also passed as an array. Should be\n",
    "                    the same length as weights_vec\n",
    "    OUTPUTS:\n",
    "        - the dot product of weights_vec and input vec, a scalar float value\n",
    "    \"\"\"\n",
    "    return np.dot(weight_vec, input_vec)\n",
    "\n",
    "def sign(h, threshold = 0):\n",
    "    \"\"\"\n",
    "    Takes the sum(weights x input) and decides whether the perceptron\n",
    "    fires (returns 1) or doesn't fire (returns -1)\n",
    "    INPUTS:\n",
    "        - h, a scalar float value\n",
    "        - threshold, the threshold that h should be greater than\n",
    "                for the perceptron to fire. Default is zero.\n",
    "    OUTPUTS:\n",
    "        - Either 1 or -1, depending on whether the perceptron\n",
    "            fires or doesn't fire.\n",
    "    \"\"\"\n",
    "    if h > threshold:\n",
    "        return 1\n",
    "    if h < threshold:\n",
    "        return -1\n",
    "    \n",
    "def perceptron(input_df, input_labels, weight_vec, num_iterations = 100):\n",
    "    \"\"\"\n",
    "    Perceptron Algorithm that trains itself to recognize the difference \n",
    "    between linearly seperable data\n",
    "    INPUTS:\n",
    "        - input_df, an m x n Pandas DataFrame where each row is an input vector\n",
    "        - input_labels, a List where each input_labels[i] is the correct\n",
    "                    label for input_df[i]\n",
    "        - weight_vec, a numpy array containing an array of weights to start with.\n",
    "                    Should have length = n\n",
    "        - num_iterations, an integer. This should be the number of times the algorithm\n",
    "                    goes through the entire data set and updates the weights.\n",
    "    OUTPUTS:\n",
    "        - weights, a numpy array with the updated weights. Should be length = n.\n",
    "    \"\"\"\n",
    "    weights = weight_vec\n",
    "    for i in range(num_iterations):\n",
    "        for j in input_df.index:\n",
    "            x_j = np.array(input_df.loc[j])\n",
    "            h = h_sum(weight_vec, x_j)\n",
    "            if sign(h) != input_labels[j]:\n",
    "                weights += x_j * input_labels[j]\n",
    "    return weights\n",
    "\n",
    "# Setting up the training and testing data as dataframes. The training data contains the first 30 rows of each species \n",
    "# while the testing data contains the final 20 rows of each species\n",
    "train = data.loc[0:29].append(data.loc[50:79])\n",
    "test = data.loc[30:49].append(data.loc[80:99])\n",
    "\n",
    "# The weights array is a numpy array with 3 random floating point values in the interval [0,1].\n",
    "# The rest of this is setting up inputs to correctly go into the Perceptron algorithm\n",
    "input_x = train[['SepalLength', 'SepalWidth', 'Bias']]\n",
    "input_x_labels = train['Expected Output']\n",
    "weights = np.array([round(np.random.normal(),2), round(np.random.normal(), 2), round(np.random.normal(), 2)])\n",
    "\n",
    "# This chunk actually trains the weights and gives us the outputted weights from the Perceptron\n",
    "# as well as giving the user the amount of time the function took to execute. \n",
    "start_time = time.time()\n",
    "trained_weights = perceptron(input_x, input_x_labels, weights)\n",
    "elapsed = round(time.time() - start_time, 2)\n",
    "print(\"Execution completed in {} seconds\".format(elapsed))\n",
    "print(trained_weights)"
   ]
  },
  {
   "cell_type": "code",
   "execution_count": 4,
   "metadata": {},
   "outputs": [
    {
     "name": "stdout",
     "output_type": "stream",
     "text": [
      "Species            setosa\n",
      "SepalLength           4.8\n",
      "SepalWidth            3.1\n",
      "Bias                    1\n",
      "Expected Output         1\n",
      "Name: 30, dtype: object\n"
     ]
    },
    {
     "data": {
      "text/plain": [
       "'setosa'"
      ]
     },
     "execution_count": 4,
     "metadata": {},
     "output_type": "execute_result"
    }
   ],
   "source": [
    "def predict(test_vec, weight_vec):\n",
    "    \"\"\"\n",
    "    This function predicts whether a given test_vec would be classified as \n",
    "    'versicolor' or 'setosa' based on the given trained weight_vec.\n",
    "    INPUTS:\n",
    "        - test_vec, a numpy array of length = n that contains input data\n",
    "        - weight vec, a numpy array also of length = n containing\n",
    "                    weights\n",
    "    OUTPUTS:\n",
    "        - returns 'setosa' or 'versicolor'\n",
    "    \"\"\"\n",
    "    if sign(h_sum(weight_vec, test_vec)) == 1:\n",
    "        return 'setosa'\n",
    "    else:\n",
    "        return 'versicolor'\n",
    "    \n",
    "print(test.loc[30])\n",
    "predict(test[['SepalLength', 'SepalWidth', 'Bias']].loc[30], trained_weights)"
   ]
  },
  {
   "cell_type": "code",
   "execution_count": 5,
   "metadata": {},
   "outputs": [
    {
     "name": "stdout",
     "output_type": "stream",
     "text": [
      "Percent Correct = 97.5%\n"
     ]
    }
   ],
   "source": [
    "# This chunk tells us what percent of our test data was accurately classified using the trained weights\n",
    "predictions = np.array([predict(test[['SepalLength', 'SepalWidth', 'Bias']].loc[j], trained_weights) for j in test.index])\n",
    "actual = np.array(test['Species'])\n",
    "pct_correct = 100 * (np.count_nonzero(predictions == actual) / len(test))\n",
    "print(\"Percent Correct = {}%\".format(pct_correct))"
   ]
  },
  {
   "cell_type": "code",
   "execution_count": 6,
   "metadata": {},
   "outputs": [],
   "source": [
    "# slope = -(b / w2) / (b / w1)\n",
    "# y-intercept = -b / w2\n",
    "\n",
    "slope = -(trained_weights[2] / trained_weights[1]) / (trained_weights[2] / trained_weights[0])\n",
    "y_int = -trained_weights[2] / trained_weights[1]\n",
    "\n",
    "x = np.arange(4, 7, step=.01)\n",
    "y = x*slope + y_int"
   ]
  },
  {
   "cell_type": "code",
   "execution_count": 7,
   "metadata": {},
   "outputs": [
    {
     "data": {
      "text/plain": [
       "[<matplotlib.lines.Line2D at 0x1ba07cf21d0>]"
      ]
     },
     "execution_count": 7,
     "metadata": {},
     "output_type": "execute_result"
    },
    {
     "data": {
      "image/png": "[encoded data removed]",
      "text/plain": [
       "<Figure size 720x720 with 1 Axes>"
      ]
     },
     "metadata": {
      "needs_background": "light"
     },
     "output_type": "display_data"
    }
   ],
   "source": [
    "# Visualizing what data looks like\n",
    "# We can see the data is linearly seperable\n",
    "s_sl = np.array(data[data['Species'] == 'setosa']['SepalLength'])\n",
    "s_sw = np.array(data[data['Species'] == 'setosa']['SepalWidth'])\n",
    "v_sl = np.array(data[data['Species'] == 'versicolor']['SepalLength'])\n",
    "v_sw = np.array(data[data['Species'] == 'versicolor']['SepalWidth'])\n",
    "\n",
    "plt.figure(figsize=(10, 10))\n",
    "plt.scatter(s_sl, s_sw, label=\"Setosa\")\n",
    "plt.scatter(v_sl, v_sw, label=\"Versicolor\")\n",
    "plt.ylabel('Sepal Width')\n",
    "plt.xlabel('Sepal Length')\n",
    "plt.title('Sepal Length vs. Sepal Width for Iris Flowers')\n",
    "plt.legend()\n",
    "plt.plot(x, y, color='black')"
   ]
  },
  {
   "cell_type": "code",
   "execution_count": 9,
   "metadata": {},
   "outputs": [
    {
     "name": "stdout",
     "output_type": "stream",
     "text": [
      "0.6498625114573789\n",
      "-0.4317140238313474\n"
     ]
    }
   ],
   "source": [
    "print(slope)\n",
    "print(y_int)"
   ]
  },
  {
   "cell_type": "code",
   "execution_count": null,
   "metadata": {},
   "outputs": [],
   "source": []
  }
 ],
 "metadata": {
  "kernelspec": {
   "display_name": "Python 3",
   "language": "python",
   "name": "python3"
  },
  "language_info": {
   "codemirror_mode": {
    "name": "ipython",
    "version": 3
   },
   "file_extension": ".py",
   "mimetype": "text/x-python",
   "name": "python",
   "nbconvert_exporter": "python",
   "pygments_lexer": "ipython3",
   "version": "3.6.8"
  }
 },
 "nbformat": 4,
 "nbformat_minor": 4
}
